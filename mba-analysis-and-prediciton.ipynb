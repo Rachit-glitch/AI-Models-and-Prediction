{
 "cells": [
  {
   "cell_type": "code",
   "execution_count": 1,
   "id": "41031d40",
   "metadata": {
    "_cell_guid": "b1076dfc-b9ad-4769-8c92-a6c4dae69d19",
    "_uuid": "8f2839f25d086af736a60e9eeb907d3b93b6e0e5",
    "execution": {
     "iopub.execute_input": "2024-09-30T23:49:54.376519Z",
     "iopub.status.busy": "2024-09-30T23:49:54.375985Z",
     "iopub.status.idle": "2024-09-30T23:49:57.832586Z",
     "shell.execute_reply": "2024-09-30T23:49:57.831045Z"
    },
    "papermill": {
     "duration": 3.466907,
     "end_time": "2024-09-30T23:49:57.835304",
     "exception": false,
     "start_time": "2024-09-30T23:49:54.368397",
     "status": "completed"
    },
    "tags": []
   },
   "outputs": [
    {
     "name": "stdout",
     "output_type": "stream",
     "text": [
      "/kaggle/input/mba-admission-dataset/MBA.csv\n"
     ]
    }
   ],
   "source": [
    "# This Python 3 environment comes with many helpful analytics libraries installed\n",
    "# It is defined by the kaggle/python Docker image: https://github.com/kaggle/docker-python\n",
    "# For example, here's several helpful packages to load\n",
    "\n",
    "import numpy as np # linear algebra\n",
    "import pandas as pd # data processing, CSV file I/O (e.g. pd.read_csv)\n",
    "from matplotlib import pyplot as plt\n",
    "import seaborn as sns\n",
    " \n",
    "#preprocessing \n",
    "from sklearn.preprocessing import OneHotEncoder\n",
    "#models\n",
    "from sklearn.model_selection import train_test_split\n",
    "from sklearn.linear_model import LogisticRegression\n",
    "from sklearn.tree import DecisionTreeClassifier\n",
    "from sklearn.ensemble import RandomForestClassifier\n",
    "from sklearn.neighbors import KNeighborsClassifier\n",
    "from sklearn.svm import SVC\n",
    "from sklearn.metrics import accuracy_score\n",
    "\n",
    "# Input data files are available in the read-only \"../input/\" directory\n",
    "# For example, running this (by clicking run or pressing Shift+Enter) will list all files under the input directory\n",
    "\n",
    "import os\n",
    "for dirname, _, filenames in os.walk('/kaggle/input'):\n",
    "    for filename in filenames:\n",
    "        print(os.path.join(dirname, filename))\n",
    "\n",
    "# You can write up to 20GB to the current directory (/kaggle/working/) that gets preserved as output when you create a version using \"Save & Run All\" \n",
    "# You can also write temporary files to /kaggle/temp/, but they won't be saved outside of the current session"
   ]
  },
  {
   "cell_type": "code",
   "execution_count": 2,
   "id": "905f3c17",
   "metadata": {
    "execution": {
     "iopub.execute_input": "2024-09-30T23:49:57.847198Z",
     "iopub.status.busy": "2024-09-30T23:49:57.846424Z",
     "iopub.status.idle": "2024-09-30T23:49:57.908311Z",
     "shell.execute_reply": "2024-09-30T23:49:57.906920Z"
    },
    "papermill": {
     "duration": 0.070811,
     "end_time": "2024-09-30T23:49:57.911029",
     "exception": false,
     "start_time": "2024-09-30T23:49:57.840218",
     "status": "completed"
    },
    "tags": []
   },
   "outputs": [
    {
     "data": {
      "text/html": [
       "<div>\n",
       "<style scoped>\n",
       "    .dataframe tbody tr th:only-of-type {\n",
       "        vertical-align: middle;\n",
       "    }\n",
       "\n",
       "    .dataframe tbody tr th {\n",
       "        vertical-align: top;\n",
       "    }\n",
       "\n",
       "    .dataframe thead th {\n",
       "        text-align: right;\n",
       "    }\n",
       "</style>\n",
       "<table border=\"1\" class=\"dataframe\">\n",
       "  <thead>\n",
       "    <tr style=\"text-align: right;\">\n",
       "      <th></th>\n",
       "      <th>application_id</th>\n",
       "      <th>gender</th>\n",
       "      <th>international</th>\n",
       "      <th>gpa</th>\n",
       "      <th>major</th>\n",
       "      <th>race</th>\n",
       "      <th>gmat</th>\n",
       "      <th>work_exp</th>\n",
       "      <th>work_industry</th>\n",
       "      <th>admission</th>\n",
       "    </tr>\n",
       "  </thead>\n",
       "  <tbody>\n",
       "    <tr>\n",
       "      <th>0</th>\n",
       "      <td>1</td>\n",
       "      <td>Female</td>\n",
       "      <td>False</td>\n",
       "      <td>3.30</td>\n",
       "      <td>Business</td>\n",
       "      <td>Asian</td>\n",
       "      <td>620.0</td>\n",
       "      <td>3.0</td>\n",
       "      <td>Financial Services</td>\n",
       "      <td>Admit</td>\n",
       "    </tr>\n",
       "    <tr>\n",
       "      <th>1</th>\n",
       "      <td>2</td>\n",
       "      <td>Male</td>\n",
       "      <td>False</td>\n",
       "      <td>3.28</td>\n",
       "      <td>Humanities</td>\n",
       "      <td>Black</td>\n",
       "      <td>680.0</td>\n",
       "      <td>5.0</td>\n",
       "      <td>Investment Management</td>\n",
       "      <td>NaN</td>\n",
       "    </tr>\n",
       "    <tr>\n",
       "      <th>2</th>\n",
       "      <td>3</td>\n",
       "      <td>Female</td>\n",
       "      <td>True</td>\n",
       "      <td>3.30</td>\n",
       "      <td>Business</td>\n",
       "      <td>NaN</td>\n",
       "      <td>710.0</td>\n",
       "      <td>5.0</td>\n",
       "      <td>Technology</td>\n",
       "      <td>Admit</td>\n",
       "    </tr>\n",
       "  </tbody>\n",
       "</table>\n",
       "</div>"
      ],
      "text/plain": [
       "   application_id  gender  international   gpa       major   race   gmat  \\\n",
       "0               1  Female          False  3.30    Business  Asian  620.0   \n",
       "1               2    Male          False  3.28  Humanities  Black  680.0   \n",
       "2               3  Female           True  3.30    Business    NaN  710.0   \n",
       "\n",
       "   work_exp          work_industry admission  \n",
       "0       3.0     Financial Services     Admit  \n",
       "1       5.0  Investment Management       NaN  \n",
       "2       5.0             Technology     Admit  "
      ]
     },
     "execution_count": 2,
     "metadata": {},
     "output_type": "execute_result"
    }
   ],
   "source": [
    "df=pd.read_csv('/kaggle/input/mba-admission-dataset/MBA.csv')\n",
    "\n",
    "df.head(3)"
   ]
  },
  {
   "cell_type": "code",
   "execution_count": 3,
   "id": "fdbcb811",
   "metadata": {
    "execution": {
     "iopub.execute_input": "2024-09-30T23:49:57.923736Z",
     "iopub.status.busy": "2024-09-30T23:49:57.923250Z",
     "iopub.status.idle": "2024-09-30T23:49:57.954025Z",
     "shell.execute_reply": "2024-09-30T23:49:57.952535Z"
    },
    "papermill": {
     "duration": 0.040614,
     "end_time": "2024-09-30T23:49:57.957253",
     "exception": false,
     "start_time": "2024-09-30T23:49:57.916639",
     "status": "completed"
    },
    "tags": []
   },
   "outputs": [
    {
     "name": "stdout",
     "output_type": "stream",
     "text": [
      "<class 'pandas.core.frame.DataFrame'>\n",
      "RangeIndex: 6194 entries, 0 to 6193\n",
      "Data columns (total 10 columns):\n",
      " #   Column          Non-Null Count  Dtype  \n",
      "---  ------          --------------  -----  \n",
      " 0   application_id  6194 non-null   int64  \n",
      " 1   gender          6194 non-null   object \n",
      " 2   international   6194 non-null   bool   \n",
      " 3   gpa             6194 non-null   float64\n",
      " 4   major           6194 non-null   object \n",
      " 5   race            4352 non-null   object \n",
      " 6   gmat            6194 non-null   float64\n",
      " 7   work_exp        6194 non-null   float64\n",
      " 8   work_industry   6194 non-null   object \n",
      " 9   admission       1000 non-null   object \n",
      "dtypes: bool(1), float64(3), int64(1), object(5)\n",
      "memory usage: 441.7+ KB\n"
     ]
    }
   ],
   "source": [
    "df.info()"
   ]
  },
  {
   "cell_type": "code",
   "execution_count": 4,
   "id": "b8ca7dc7",
   "metadata": {
    "execution": {
     "iopub.execute_input": "2024-09-30T23:49:57.969726Z",
     "iopub.status.busy": "2024-09-30T23:49:57.969244Z",
     "iopub.status.idle": "2024-09-30T23:49:57.983361Z",
     "shell.execute_reply": "2024-09-30T23:49:57.982198Z"
    },
    "papermill": {
     "duration": 0.023471,
     "end_time": "2024-09-30T23:49:57.986008",
     "exception": false,
     "start_time": "2024-09-30T23:49:57.962537",
     "status": "completed"
    },
    "tags": []
   },
   "outputs": [
    {
     "data": {
      "text/plain": [
       "application_id       0\n",
       "gender               0\n",
       "international        0\n",
       "gpa                  0\n",
       "major                0\n",
       "race              1842\n",
       "gmat                 0\n",
       "work_exp             0\n",
       "work_industry        0\n",
       "admission         5194\n",
       "dtype: int64"
      ]
     },
     "execution_count": 4,
     "metadata": {},
     "output_type": "execute_result"
    }
   ],
   "source": [
    "df.isna().sum()"
   ]
  },
  {
   "cell_type": "code",
   "execution_count": 5,
   "id": "1ebaae2e",
   "metadata": {
    "execution": {
     "iopub.execute_input": "2024-09-30T23:49:57.999714Z",
     "iopub.status.busy": "2024-09-30T23:49:57.999176Z",
     "iopub.status.idle": "2024-09-30T23:49:58.019877Z",
     "shell.execute_reply": "2024-09-30T23:49:58.018733Z"
    },
    "papermill": {
     "duration": 0.031053,
     "end_time": "2024-09-30T23:49:58.022787",
     "exception": false,
     "start_time": "2024-09-30T23:49:57.991734",
     "status": "completed"
    },
    "tags": []
   },
   "outputs": [
    {
     "data": {
      "text/plain": [
       "application_id    0\n",
       "gender            0\n",
       "international     0\n",
       "gpa               0\n",
       "major             0\n",
       "race              0\n",
       "gmat              0\n",
       "work_exp          0\n",
       "work_industry     0\n",
       "admission         0\n",
       "dtype: int64"
      ]
     },
     "execution_count": 5,
     "metadata": {},
     "output_type": "execute_result"
    }
   ],
   "source": [
    "df['race']=df['race'].fillna('International')\n",
    "df['admission']=df['admission'].fillna('Deny')\n",
    "df.isna().sum()\n"
   ]
  },
  {
   "cell_type": "code",
   "execution_count": 6,
   "id": "027dfe05",
   "metadata": {
    "execution": {
     "iopub.execute_input": "2024-09-30T23:49:58.036993Z",
     "iopub.status.busy": "2024-09-30T23:49:58.036499Z",
     "iopub.status.idle": "2024-09-30T23:49:58.045969Z",
     "shell.execute_reply": "2024-09-30T23:49:58.044503Z"
    },
    "papermill": {
     "duration": 0.020255,
     "end_time": "2024-09-30T23:49:58.048720",
     "exception": false,
     "start_time": "2024-09-30T23:49:58.028465",
     "status": "completed"
    },
    "tags": []
   },
   "outputs": [
    {
     "data": {
      "text/plain": [
       "'\\nVisualizing the admission status\\n'"
      ]
     },
     "execution_count": 6,
     "metadata": {},
     "output_type": "execute_result"
    }
   ],
   "source": [
    "'''\n",
    "Visualizing the admission status\n",
    "'''"
   ]
  },
  {
   "cell_type": "code",
   "execution_count": 7,
   "id": "3563c9df",
   "metadata": {
    "execution": {
     "iopub.execute_input": "2024-09-30T23:49:58.063292Z",
     "iopub.status.busy": "2024-09-30T23:49:58.062212Z",
     "iopub.status.idle": "2024-09-30T23:49:58.386999Z",
     "shell.execute_reply": "2024-09-30T23:49:58.385392Z"
    },
    "papermill": {
     "duration": 0.335171,
     "end_time": "2024-09-30T23:49:58.389901",
     "exception": false,
     "start_time": "2024-09-30T23:49:58.054730",
     "status": "completed"
    },
    "tags": []
   },
   "outputs": [
    {
     "data": {
      "image/png": "[encoded data removed]",
      "text/plain": [
       "<Figure size 600x1000 with 1 Axes>"
      ]
     },
     "metadata": {},
     "output_type": "display_data"
    }
   ],
   "source": [
    "plt.figure(figsize=(6,10))\n",
    "sns.countplot(x='admission',data=df)\n",
    "plt.xlabel(\"Admission Status\")\n",
    "plt.ylabel('Count')\n",
    "plt.title(\"Admission status\")\n",
    "plt.show()"
   ]
  },
  {
   "cell_type": "code",
   "execution_count": 8,
   "id": "e8f5a59c",
   "metadata": {
    "execution": {
     "iopub.execute_input": "2024-09-30T23:49:58.404101Z",
     "iopub.status.busy": "2024-09-30T23:49:58.403666Z",
     "iopub.status.idle": "2024-09-30T23:49:58.411464Z",
     "shell.execute_reply": "2024-09-30T23:49:58.410231Z"
    },
    "papermill": {
     "duration": 0.017821,
     "end_time": "2024-09-30T23:49:58.413933",
     "exception": false,
     "start_time": "2024-09-30T23:49:58.396112",
     "status": "completed"
    },
    "tags": []
   },
   "outputs": [
    {
     "data": {
      "text/plain": [
       "'\\nData Preprocessing\\n'"
      ]
     },
     "execution_count": 8,
     "metadata": {},
     "output_type": "execute_result"
    }
   ],
   "source": [
    "'''\n",
    "Data Preprocessing\n",
    "'''"
   ]
  },
  {
   "cell_type": "code",
   "execution_count": 9,
   "id": "df6017cf",
   "metadata": {
    "execution": {
     "iopub.execute_input": "2024-09-30T23:49:58.429223Z",
     "iopub.status.busy": "2024-09-30T23:49:58.427925Z",
     "iopub.status.idle": "2024-09-30T23:49:58.515905Z",
     "shell.execute_reply": "2024-09-30T23:49:58.514685Z"
    },
    "papermill": {
     "duration": 0.099228,
     "end_time": "2024-09-30T23:49:58.519284",
     "exception": false,
     "start_time": "2024-09-30T23:49:58.420056",
     "status": "completed"
    },
    "tags": []
   },
   "outputs": [
    {
     "name": "stderr",
     "output_type": "stream",
     "text": [
      "/opt/conda/lib/python3.10/site-packages/sklearn/preprocessing/_encoders.py:868: FutureWarning: `sparse` was renamed to `sparse_output` in version 1.2 and will be removed in 1.4. `sparse_output` is ignored unless you leave `sparse` to its default value.\n",
      "  warnings.warn(\n"
     ]
    },
    {
     "data": {
      "text/html": [
       "<div>\n",
       "<style scoped>\n",
       "    .dataframe tbody tr th:only-of-type {\n",
       "        vertical-align: middle;\n",
       "    }\n",
       "\n",
       "    .dataframe tbody tr th {\n",
       "        vertical-align: top;\n",
       "    }\n",
       "\n",
       "    .dataframe thead th {\n",
       "        text-align: right;\n",
       "    }\n",
       "</style>\n",
       "<table border=\"1\" class=\"dataframe\">\n",
       "  <thead>\n",
       "    <tr style=\"text-align: right;\">\n",
       "      <th></th>\n",
       "      <th>application_id</th>\n",
       "      <th>gpa</th>\n",
       "      <th>gmat</th>\n",
       "      <th>work_exp</th>\n",
       "      <th>admission</th>\n",
       "      <th>gender_Male</th>\n",
       "      <th>major_Humanities</th>\n",
       "      <th>major_STEM</th>\n",
       "      <th>international_True</th>\n",
       "      <th>race_Black</th>\n",
       "      <th>...</th>\n",
       "      <th>work_industry_Health Care</th>\n",
       "      <th>work_industry_Investment Banking</th>\n",
       "      <th>work_industry_Investment Management</th>\n",
       "      <th>work_industry_Media/Entertainment</th>\n",
       "      <th>work_industry_Nonprofit/Gov</th>\n",
       "      <th>work_industry_Other</th>\n",
       "      <th>work_industry_PE/VC</th>\n",
       "      <th>work_industry_Real Estate</th>\n",
       "      <th>work_industry_Retail</th>\n",
       "      <th>work_industry_Technology</th>\n",
       "    </tr>\n",
       "  </thead>\n",
       "  <tbody>\n",
       "    <tr>\n",
       "      <th>0</th>\n",
       "      <td>1</td>\n",
       "      <td>3.30</td>\n",
       "      <td>620.0</td>\n",
       "      <td>3.0</td>\n",
       "      <td>Admit</td>\n",
       "      <td>0.0</td>\n",
       "      <td>0.0</td>\n",
       "      <td>0.0</td>\n",
       "      <td>0.0</td>\n",
       "      <td>0.0</td>\n",
       "      <td>...</td>\n",
       "      <td>0.0</td>\n",
       "      <td>0.0</td>\n",
       "      <td>0.0</td>\n",
       "      <td>0.0</td>\n",
       "      <td>0.0</td>\n",
       "      <td>0.0</td>\n",
       "      <td>0.0</td>\n",
       "      <td>0.0</td>\n",
       "      <td>0.0</td>\n",
       "      <td>0.0</td>\n",
       "    </tr>\n",
       "    <tr>\n",
       "      <th>1</th>\n",
       "      <td>2</td>\n",
       "      <td>3.28</td>\n",
       "      <td>680.0</td>\n",
       "      <td>5.0</td>\n",
       "      <td>Deny</td>\n",
       "      <td>1.0</td>\n",
       "      <td>1.0</td>\n",
       "      <td>0.0</td>\n",
       "      <td>0.0</td>\n",
       "      <td>1.0</td>\n",
       "      <td>...</td>\n",
       "      <td>0.0</td>\n",
       "      <td>0.0</td>\n",
       "      <td>1.0</td>\n",
       "      <td>0.0</td>\n",
       "      <td>0.0</td>\n",
       "      <td>0.0</td>\n",
       "      <td>0.0</td>\n",
       "      <td>0.0</td>\n",
       "      <td>0.0</td>\n",
       "      <td>0.0</td>\n",
       "    </tr>\n",
       "    <tr>\n",
       "      <th>2</th>\n",
       "      <td>3</td>\n",
       "      <td>3.30</td>\n",
       "      <td>710.0</td>\n",
       "      <td>5.0</td>\n",
       "      <td>Admit</td>\n",
       "      <td>0.0</td>\n",
       "      <td>0.0</td>\n",
       "      <td>0.0</td>\n",
       "      <td>1.0</td>\n",
       "      <td>0.0</td>\n",
       "      <td>...</td>\n",
       "      <td>0.0</td>\n",
       "      <td>0.0</td>\n",
       "      <td>0.0</td>\n",
       "      <td>0.0</td>\n",
       "      <td>0.0</td>\n",
       "      <td>0.0</td>\n",
       "      <td>0.0</td>\n",
       "      <td>0.0</td>\n",
       "      <td>0.0</td>\n",
       "      <td>1.0</td>\n",
       "    </tr>\n",
       "    <tr>\n",
       "      <th>3</th>\n",
       "      <td>4</td>\n",
       "      <td>3.47</td>\n",
       "      <td>690.0</td>\n",
       "      <td>6.0</td>\n",
       "      <td>Deny</td>\n",
       "      <td>1.0</td>\n",
       "      <td>0.0</td>\n",
       "      <td>1.0</td>\n",
       "      <td>0.0</td>\n",
       "      <td>1.0</td>\n",
       "      <td>...</td>\n",
       "      <td>0.0</td>\n",
       "      <td>0.0</td>\n",
       "      <td>0.0</td>\n",
       "      <td>0.0</td>\n",
       "      <td>0.0</td>\n",
       "      <td>0.0</td>\n",
       "      <td>0.0</td>\n",
       "      <td>0.0</td>\n",
       "      <td>0.0</td>\n",
       "      <td>1.0</td>\n",
       "    </tr>\n",
       "    <tr>\n",
       "      <th>4</th>\n",
       "      <td>5</td>\n",
       "      <td>3.35</td>\n",
       "      <td>590.0</td>\n",
       "      <td>5.0</td>\n",
       "      <td>Deny</td>\n",
       "      <td>1.0</td>\n",
       "      <td>0.0</td>\n",
       "      <td>1.0</td>\n",
       "      <td>0.0</td>\n",
       "      <td>0.0</td>\n",
       "      <td>...</td>\n",
       "      <td>0.0</td>\n",
       "      <td>0.0</td>\n",
       "      <td>0.0</td>\n",
       "      <td>0.0</td>\n",
       "      <td>0.0</td>\n",
       "      <td>0.0</td>\n",
       "      <td>0.0</td>\n",
       "      <td>0.0</td>\n",
       "      <td>0.0</td>\n",
       "      <td>0.0</td>\n",
       "    </tr>\n",
       "    <tr>\n",
       "      <th>...</th>\n",
       "      <td>...</td>\n",
       "      <td>...</td>\n",
       "      <td>...</td>\n",
       "      <td>...</td>\n",
       "      <td>...</td>\n",
       "      <td>...</td>\n",
       "      <td>...</td>\n",
       "      <td>...</td>\n",
       "      <td>...</td>\n",
       "      <td>...</td>\n",
       "      <td>...</td>\n",
       "      <td>...</td>\n",
       "      <td>...</td>\n",
       "      <td>...</td>\n",
       "      <td>...</td>\n",
       "      <td>...</td>\n",
       "      <td>...</td>\n",
       "      <td>...</td>\n",
       "      <td>...</td>\n",
       "      <td>...</td>\n",
       "      <td>...</td>\n",
       "    </tr>\n",
       "    <tr>\n",
       "      <th>6189</th>\n",
       "      <td>6190</td>\n",
       "      <td>3.49</td>\n",
       "      <td>640.0</td>\n",
       "      <td>5.0</td>\n",
       "      <td>Deny</td>\n",
       "      <td>1.0</td>\n",
       "      <td>0.0</td>\n",
       "      <td>0.0</td>\n",
       "      <td>0.0</td>\n",
       "      <td>0.0</td>\n",
       "      <td>...</td>\n",
       "      <td>0.0</td>\n",
       "      <td>0.0</td>\n",
       "      <td>0.0</td>\n",
       "      <td>0.0</td>\n",
       "      <td>0.0</td>\n",
       "      <td>1.0</td>\n",
       "      <td>0.0</td>\n",
       "      <td>0.0</td>\n",
       "      <td>0.0</td>\n",
       "      <td>0.0</td>\n",
       "    </tr>\n",
       "    <tr>\n",
       "      <th>6190</th>\n",
       "      <td>6191</td>\n",
       "      <td>3.18</td>\n",
       "      <td>670.0</td>\n",
       "      <td>4.0</td>\n",
       "      <td>Deny</td>\n",
       "      <td>1.0</td>\n",
       "      <td>0.0</td>\n",
       "      <td>1.0</td>\n",
       "      <td>0.0</td>\n",
       "      <td>1.0</td>\n",
       "      <td>...</td>\n",
       "      <td>0.0</td>\n",
       "      <td>0.0</td>\n",
       "      <td>0.0</td>\n",
       "      <td>0.0</td>\n",
       "      <td>0.0</td>\n",
       "      <td>0.0</td>\n",
       "      <td>0.0</td>\n",
       "      <td>0.0</td>\n",
       "      <td>0.0</td>\n",
       "      <td>0.0</td>\n",
       "    </tr>\n",
       "    <tr>\n",
       "      <th>6191</th>\n",
       "      <td>6192</td>\n",
       "      <td>3.22</td>\n",
       "      <td>680.0</td>\n",
       "      <td>5.0</td>\n",
       "      <td>Admit</td>\n",
       "      <td>0.0</td>\n",
       "      <td>0.0</td>\n",
       "      <td>0.0</td>\n",
       "      <td>1.0</td>\n",
       "      <td>0.0</td>\n",
       "      <td>...</td>\n",
       "      <td>1.0</td>\n",
       "      <td>0.0</td>\n",
       "      <td>0.0</td>\n",
       "      <td>0.0</td>\n",
       "      <td>0.0</td>\n",
       "      <td>0.0</td>\n",
       "      <td>0.0</td>\n",
       "      <td>0.0</td>\n",
       "      <td>0.0</td>\n",
       "      <td>0.0</td>\n",
       "    </tr>\n",
       "    <tr>\n",
       "      <th>6192</th>\n",
       "      <td>6193</td>\n",
       "      <td>3.36</td>\n",
       "      <td>590.0</td>\n",
       "      <td>5.0</td>\n",
       "      <td>Deny</td>\n",
       "      <td>1.0</td>\n",
       "      <td>0.0</td>\n",
       "      <td>0.0</td>\n",
       "      <td>1.0</td>\n",
       "      <td>0.0</td>\n",
       "      <td>...</td>\n",
       "      <td>0.0</td>\n",
       "      <td>0.0</td>\n",
       "      <td>0.0</td>\n",
       "      <td>0.0</td>\n",
       "      <td>0.0</td>\n",
       "      <td>1.0</td>\n",
       "      <td>0.0</td>\n",
       "      <td>0.0</td>\n",
       "      <td>0.0</td>\n",
       "      <td>0.0</td>\n",
       "    </tr>\n",
       "    <tr>\n",
       "      <th>6193</th>\n",
       "      <td>6194</td>\n",
       "      <td>3.23</td>\n",
       "      <td>650.0</td>\n",
       "      <td>4.0</td>\n",
       "      <td>Deny</td>\n",
       "      <td>1.0</td>\n",
       "      <td>0.0</td>\n",
       "      <td>1.0</td>\n",
       "      <td>0.0</td>\n",
       "      <td>0.0</td>\n",
       "      <td>...</td>\n",
       "      <td>0.0</td>\n",
       "      <td>0.0</td>\n",
       "      <td>0.0</td>\n",
       "      <td>0.0</td>\n",
       "      <td>0.0</td>\n",
       "      <td>0.0</td>\n",
       "      <td>0.0</td>\n",
       "      <td>0.0</td>\n",
       "      <td>0.0</td>\n",
       "      <td>0.0</td>\n",
       "    </tr>\n",
       "  </tbody>\n",
       "</table>\n",
       "<p>6194 rows × 27 columns</p>\n",
       "</div>"
      ],
      "text/plain": [
       "      application_id   gpa   gmat  work_exp admission  gender_Male  \\\n",
       "0                  1  3.30  620.0       3.0     Admit          0.0   \n",
       "1                  2  3.28  680.0       5.0      Deny          1.0   \n",
       "2                  3  3.30  710.0       5.0     Admit          0.0   \n",
       "3                  4  3.47  690.0       6.0      Deny          1.0   \n",
       "4                  5  3.35  590.0       5.0      Deny          1.0   \n",
       "...              ...   ...    ...       ...       ...          ...   \n",
       "6189            6190  3.49  640.0       5.0      Deny          1.0   \n",
       "6190            6191  3.18  670.0       4.0      Deny          1.0   \n",
       "6191            6192  3.22  680.0       5.0     Admit          0.0   \n",
       "6192            6193  3.36  590.0       5.0      Deny          1.0   \n",
       "6193            6194  3.23  650.0       4.0      Deny          1.0   \n",
       "\n",
       "      major_Humanities  major_STEM  international_True  race_Black  ...  \\\n",
       "0                  0.0         0.0                 0.0         0.0  ...   \n",
       "1                  1.0         0.0                 0.0         1.0  ...   \n",
       "2                  0.0         0.0                 1.0         0.0  ...   \n",
       "3                  0.0         1.0                 0.0         1.0  ...   \n",
       "4                  0.0         1.0                 0.0         0.0  ...   \n",
       "...                ...         ...                 ...         ...  ...   \n",
       "6189               0.0         0.0                 0.0         0.0  ...   \n",
       "6190               0.0         1.0                 0.0         1.0  ...   \n",
       "6191               0.0         0.0                 1.0         0.0  ...   \n",
       "6192               0.0         0.0                 1.0         0.0  ...   \n",
       "6193               0.0         1.0                 0.0         0.0  ...   \n",
       "\n",
       "      work_industry_Health Care  work_industry_Investment Banking  \\\n",
       "0                           0.0                               0.0   \n",
       "1                           0.0                               0.0   \n",
       "2                           0.0                               0.0   \n",
       "3                           0.0                               0.0   \n",
       "4                           0.0                               0.0   \n",
       "...                         ...                               ...   \n",
       "6189                        0.0                               0.0   \n",
       "6190                        0.0                               0.0   \n",
       "6191                        1.0                               0.0   \n",
       "6192                        0.0                               0.0   \n",
       "6193                        0.0                               0.0   \n",
       "\n",
       "      work_industry_Investment Management  work_industry_Media/Entertainment  \\\n",
       "0                                     0.0                                0.0   \n",
       "1                                     1.0                                0.0   \n",
       "2                                     0.0                                0.0   \n",
       "3                                     0.0                                0.0   \n",
       "4                                     0.0                                0.0   \n",
       "...                                   ...                                ...   \n",
       "6189                                  0.0                                0.0   \n",
       "6190                                  0.0                                0.0   \n",
       "6191                                  0.0                                0.0   \n",
       "6192                                  0.0                                0.0   \n",
       "6193                                  0.0                                0.0   \n",
       "\n",
       "      work_industry_Nonprofit/Gov  work_industry_Other  work_industry_PE/VC  \\\n",
       "0                             0.0                  0.0                  0.0   \n",
       "1                             0.0                  0.0                  0.0   \n",
       "2                             0.0                  0.0                  0.0   \n",
       "3                             0.0                  0.0                  0.0   \n",
       "4                             0.0                  0.0                  0.0   \n",
       "...                           ...                  ...                  ...   \n",
       "6189                          0.0                  1.0                  0.0   \n",
       "6190                          0.0                  0.0                  0.0   \n",
       "6191                          0.0                  0.0                  0.0   \n",
       "6192                          0.0                  1.0                  0.0   \n",
       "6193                          0.0                  0.0                  0.0   \n",
       "\n",
       "      work_industry_Real Estate  work_industry_Retail  \\\n",
       "0                           0.0                   0.0   \n",
       "1                           0.0                   0.0   \n",
       "2                           0.0                   0.0   \n",
       "3                           0.0                   0.0   \n",
       "4                           0.0                   0.0   \n",
       "...                         ...                   ...   \n",
       "6189                        0.0                   0.0   \n",
       "6190                        0.0                   0.0   \n",
       "6191                        0.0                   0.0   \n",
       "6192                        0.0                   0.0   \n",
       "6193                        0.0                   0.0   \n",
       "\n",
       "      work_industry_Technology  \n",
       "0                          0.0  \n",
       "1                          0.0  \n",
       "2                          1.0  \n",
       "3                          1.0  \n",
       "4                          0.0  \n",
       "...                        ...  \n",
       "6189                       0.0  \n",
       "6190                       0.0  \n",
       "6191                       0.0  \n",
       "6192                       0.0  \n",
       "6193                       0.0  \n",
       "\n",
       "[6194 rows x 27 columns]"
      ]
     },
     "execution_count": 9,
     "metadata": {},
     "output_type": "execute_result"
    }
   ],
   "source": [
    "encoder=OneHotEncoder(sparse=False, drop='first')\n",
    "col=['gender','major','international','race','work_industry']\n",
    "one_hot_encoded=encoder.fit_transform(df[col])\n",
    "df=df.drop(columns=col)\n",
    "df_one_hot_encoded=pd.DataFrame(one_hot_encoded, columns=encoder.get_feature_names_out())\n",
    "df_encoded=pd.concat([df,df_one_hot_encoded],axis=1)\n",
    "df_encoded"
   ]
  },
  {
   "cell_type": "code",
   "execution_count": 10,
   "id": "a3406b59",
   "metadata": {
    "execution": {
     "iopub.execute_input": "2024-09-30T23:49:58.536259Z",
     "iopub.status.busy": "2024-09-30T23:49:58.535747Z",
     "iopub.status.idle": "2024-09-30T23:50:00.333597Z",
     "shell.execute_reply": "2024-09-30T23:50:00.331885Z"
    },
    "papermill": {
     "duration": 1.80973,
     "end_time": "2024-09-30T23:50:00.336440",
     "exception": false,
     "start_time": "2024-09-30T23:49:58.526710",
     "status": "completed"
    },
    "tags": []
   },
   "outputs": [
    {
     "name": "stdout",
     "output_type": "stream",
     "text": [
      "Accuracy of logistic Regression :0.8246369015599785\n",
      "Accuracy of Desision Tree :0.8111888111888111\n",
      "Accuracy of Random Forest :0.842926304464766\n",
      "Accuracy of k-NearestNeighbors :0.8095750403442711\n",
      "Accuracy of Support Vector Machines :0.8203335126412049\n"
     ]
    }
   ],
   "source": [
    "X=df_encoded.drop(columns=['admission'])\n",
    "y=df_encoded['admission']\n",
    "X_train,X_test,y_train,y_test=train_test_split(X,y,test_size=0.3,random_state=42)\n",
    "models={\n",
    "    'logistic Regression':LogisticRegression(),\n",
    "    'Desision Tree':DecisionTreeClassifier(),\n",
    "    'Random Forest':RandomForestClassifier(),\n",
    "    'k-NearestNeighbors':KNeighborsClassifier(),\n",
    "    'Support Vector Machines': SVC()\n",
    "}\n",
    "for model_name, model in models.items():\n",
    "    model.fit(X_train,y_train)\n",
    "    y_pred=model.predict(X_test)\n",
    "    accuracy=accuracy_score(y_test,y_pred)\n",
    "    print(f\"Accuracy of {model_name} :{accuracy}\")"
   ]
  },
  {
   "cell_type": "code",
   "execution_count": null,
   "id": "ab0a9827",
   "metadata": {
    "papermill": {
     "duration": 0.007501,
     "end_time": "2024-09-30T23:50:00.351785",
     "exception": false,
     "start_time": "2024-09-30T23:50:00.344284",
     "status": "completed"
    },
    "tags": []
   },
   "outputs": [],
   "source": []
  }
 ],
 "metadata": {
  "kaggle": {
   "accelerator": "none",
   "dataSources": [
    {
     "datasetId": 5719862,
     "sourceId": 9425404,
     "sourceType": "datasetVersion"
    }
   ],
   "dockerImageVersionId": 30775,
   "isGpuEnabled": false,
   "isInternetEnabled": true,
   "language": "python",
   "sourceType": "notebook"
  },
  "kernelspec": {
   "display_name": "Python 3",
   "language": "python",
   "name": "python3"
  },
  "language_info": {
   "codemirror_mode": {
    "name": "ipython",
    "version": 3
   },
   "file_extension": ".py",
   "mimetype": "text/x-python",
   "name": "python",
   "nbconvert_exporter": "python",
   "pygments_lexer": "ipython3",
   "version": "3.10.14"
  },
  "papermill": {
   "default_parameters": {},
   "duration": 10.085275,
   "end_time": "2024-09-30T23:50:01.184922",
   "environment_variables": {},
   "exception": null,
   "input_path": "__notebook__.ipynb",
   "output_path": "__notebook__.ipynb",
   "parameters": {},
   "start_time": "2024-09-30T23:49:51.099647",
   "version": "2.6.0"
  }
 },
 "nbformat": 4,
 "nbformat_minor": 5
}
